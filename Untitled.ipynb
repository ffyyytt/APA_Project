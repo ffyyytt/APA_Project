{
 "cells": [
  {
   "cell_type": "code",
   "execution_count": 3,
   "id": "55861236",
   "metadata": {},
   "outputs": [
    {
     "name": "stdout",
     "output_type": "stream",
     "text": [
      "433 ms ± 5.06 ms per loop (mean ± std. dev. of 2 runs, 1 loop each)\n"
     ]
    }
   ],
   "source": [
    "%%timeit -r 2\n",
    "%%capture\n",
    "!./tp gravier.tif 7 5 8 1200 1200 0"
   ]
  },
  {
   "cell_type": "code",
   "execution_count": 4,
   "id": "bde765f9",
   "metadata": {},
   "outputs": [
    {
     "name": "stdout",
     "output_type": "stream",
     "text": [
      "6.8 s ± 71.9 ms per loop (mean ± std. dev. of 2 runs, 1 loop each)\n"
     ]
    }
   ],
   "source": [
    "%%timeit -r 2\n",
    "%%capture\n",
    "!./tp gravier.tif 5 5 8 1200 1200 0"
   ]
  },
  {
   "cell_type": "code",
   "execution_count": null,
   "id": "79edeae6",
   "metadata": {},
   "outputs": [],
   "source": []
  }
 ],
 "metadata": {
  "kernelspec": {
   "display_name": "Python 3 (ipykernel)",
   "language": "python",
   "name": "python3"
  },
  "language_info": {
   "codemirror_mode": {
    "name": "ipython",
    "version": 3
   },
   "file_extension": ".py",
   "mimetype": "text/x-python",
   "name": "python",
   "nbconvert_exporter": "python",
   "pygments_lexer": "ipython3",
   "version": "3.10.6"
  }
 },
 "nbformat": 4,
 "nbformat_minor": 5
}
