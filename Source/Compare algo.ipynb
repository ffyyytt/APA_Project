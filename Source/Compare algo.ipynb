{
 "cells": [
  {
   "cell_type": "markdown",
   "id": "dac007fe",
   "metadata": {},
   "source": [
    "Based on the compare results of caching and not caching. We see that the cache is much faster. So in this test we only compare the speed when cached cost"
   ]
  },
  {
   "cell_type": "markdown",
   "id": "baa12d2c",
   "metadata": {},
   "source": [
    "# Test 1 (Normal)"
   ]
  },
  {
   "cell_type": "raw",
   "id": "b3d1b301",
   "metadata": {},
   "source": [
    "racineNombreBlocs = 32\n",
    "recouvrement = 2\n",
    "largeurSortie = 32 \n",
    "hauteurSortie = 32"
   ]
  },
  {
   "cell_type": "markdown",
   "id": "a50044a8",
   "metadata": {},
   "source": [
    "## Algo 3"
   ]
  },
  {
   "cell_type": "code",
   "execution_count": 1,
   "id": "1c72458c",
   "metadata": {},
   "outputs": [
    {
     "name": "stdout",
     "output_type": "stream",
     "text": [
      "801 ms ± 13.7 ms per loop (mean ± std. dev. of 2 runs, 1 loop each)\n"
     ]
    }
   ],
   "source": [
    "%%timeit -r 2\n",
    "%%capture\n",
    "!./tp gravier.tif 3 32 2 32 32 1 0 0"
   ]
  },
  {
   "cell_type": "markdown",
   "id": "0a96b1b3",
   "metadata": {},
   "source": [
    "## Algo 6"
   ]
  },
  {
   "cell_type": "code",
   "execution_count": 2,
   "id": "07aca1c7",
   "metadata": {},
   "outputs": [
    {
     "name": "stdout",
     "output_type": "stream",
     "text": [
      "756 ms ± 4.37 ms per loop (mean ± std. dev. of 2 runs, 1 loop each)\n"
     ]
    }
   ],
   "source": [
    "%%timeit -r 2\n",
    "%%capture\n",
    "!./tp gravier.tif 6 32 2 32 32 1 0 0"
   ]
  },
  {
   "cell_type": "markdown",
   "id": "2d702864",
   "metadata": {},
   "source": [
    "## Algo 4"
   ]
  },
  {
   "cell_type": "code",
   "execution_count": 3,
   "id": "3be9e71d",
   "metadata": {},
   "outputs": [
    {
     "name": "stdout",
     "output_type": "stream",
     "text": [
      "653 ms ± 659 µs per loop (mean ± std. dev. of 2 runs, 1 loop each)\n"
     ]
    }
   ],
   "source": [
    "%%timeit -r 2\n",
    "%%capture\n",
    "!./tp gravier.tif 4 32 2 32 32 1 0 0"
   ]
  },
  {
   "cell_type": "markdown",
   "id": "d9233ce7",
   "metadata": {},
   "source": [
    "## Algo 5"
   ]
  },
  {
   "cell_type": "code",
   "execution_count": 4,
   "id": "c0d56332",
   "metadata": {},
   "outputs": [
    {
     "name": "stdout",
     "output_type": "stream",
     "text": [
      "546 ms ± 2.82 ms per loop (mean ± std. dev. of 2 runs, 1 loop each)\n"
     ]
    }
   ],
   "source": [
    "%%timeit -r 2\n",
    "%%capture\n",
    "!./tp gravier.tif 5 32 2 32 32 1 0 0"
   ]
  },
  {
   "cell_type": "markdown",
   "id": "f264e41d",
   "metadata": {},
   "source": [
    "# Test 2 (Algo 3, 6 > 1s)"
   ]
  },
  {
   "cell_type": "raw",
   "id": "79163529",
   "metadata": {},
   "source": [
    "racineNombreBlocs = 16\n",
    "recouvrement = 3\n",
    "largeurSortie = 64\n",
    "hauteurSortie = 64"
   ]
  },
  {
   "cell_type": "markdown",
   "id": "752d09d6",
   "metadata": {},
   "source": [
    "## Algo 3"
   ]
  },
  {
   "cell_type": "code",
   "execution_count": 5,
   "id": "00062b50",
   "metadata": {},
   "outputs": [
    {
     "name": "stdout",
     "output_type": "stream",
     "text": [
      "12.4 s ± 102 ms per loop (mean ± std. dev. of 2 runs, 1 loop each)\n"
     ]
    }
   ],
   "source": [
    "%%timeit -r 2\n",
    "%%capture\n",
    "!./tp gravier.tif 3 16 3 64 64 1 0 0"
   ]
  },
  {
   "cell_type": "markdown",
   "id": "9d2f7cd4",
   "metadata": {},
   "source": [
    "## Algo 6"
   ]
  },
  {
   "cell_type": "code",
   "execution_count": 6,
   "id": "06ebb333",
   "metadata": {},
   "outputs": [
    {
     "name": "stdout",
     "output_type": "stream",
     "text": [
      "3.37 s ± 37.9 ms per loop (mean ± std. dev. of 2 runs, 1 loop each)\n"
     ]
    }
   ],
   "source": [
    "%%timeit -r 2\n",
    "%%capture\n",
    "!./tp gravier.tif 6 16 3 64 64 1 0 0"
   ]
  },
  {
   "cell_type": "markdown",
   "id": "bb32c186",
   "metadata": {},
   "source": [
    "## Algo 4"
   ]
  },
  {
   "cell_type": "code",
   "execution_count": 7,
   "id": "01bc6bae",
   "metadata": {},
   "outputs": [
    {
     "name": "stdout",
     "output_type": "stream",
     "text": [
      "284 ms ± 18.5 ms per loop (mean ± std. dev. of 2 runs, 1 loop each)\n"
     ]
    }
   ],
   "source": [
    "%%timeit -r 2\n",
    "%%capture\n",
    "!./tp gravier.tif 4 16 3 64 64 1 0 0"
   ]
  },
  {
   "cell_type": "markdown",
   "id": "86b5248b",
   "metadata": {},
   "source": [
    "## Algo 5"
   ]
  },
  {
   "cell_type": "code",
   "execution_count": 8,
   "id": "cf855378",
   "metadata": {},
   "outputs": [
    {
     "name": "stdout",
     "output_type": "stream",
     "text": [
      "240 ms ± 12.2 ms per loop (mean ± std. dev. of 2 runs, 1 loop each)\n"
     ]
    }
   ],
   "source": [
    "%%timeit -r 2\n",
    "%%capture\n",
    "!./tp gravier.tif 5 16 3 64 64 1 0 0"
   ]
  },
  {
   "cell_type": "markdown",
   "id": "1b0e3874",
   "metadata": {},
   "source": [
    "# Test 3 (Algo 3 > 1m)"
   ]
  },
  {
   "cell_type": "raw",
   "id": "8e904ee7",
   "metadata": {},
   "source": [
    "racineNombreBlocs = 12\n",
    "recouvrement = 3\n",
    "largeurSortie = 128\n",
    "hauteurSortie = 128"
   ]
  },
  {
   "cell_type": "markdown",
   "id": "932dc1af",
   "metadata": {},
   "source": [
    "## Algo 3 (>1m)"
   ]
  },
  {
   "cell_type": "raw",
   "id": "5d035528",
   "metadata": {},
   "source": [
    "%%timeit -r 2\n",
    "%%capture\n",
    "!./tp gravier.tif 3 12 3 128 128 1 0 0"
   ]
  },
  {
   "cell_type": "markdown",
   "id": "d9d8f92d",
   "metadata": {},
   "source": [
    "## Algo 6"
   ]
  },
  {
   "cell_type": "code",
   "execution_count": 9,
   "id": "dcab8b4b",
   "metadata": {},
   "outputs": [
    {
     "name": "stdout",
     "output_type": "stream",
     "text": [
      "12.5 s ± 73.6 ms per loop (mean ± std. dev. of 2 runs, 1 loop each)\n"
     ]
    }
   ],
   "source": [
    "%%timeit -r 2\n",
    "%%capture\n",
    "!./tp gravier.tif 6 12 3 128 128 1 0 0"
   ]
  },
  {
   "cell_type": "markdown",
   "id": "1b17072e",
   "metadata": {},
   "source": [
    "## Algo 4"
   ]
  },
  {
   "cell_type": "code",
   "execution_count": 10,
   "id": "f7a00c67",
   "metadata": {},
   "outputs": [
    {
     "name": "stdout",
     "output_type": "stream",
     "text": [
      "285 ms ± 232 µs per loop (mean ± std. dev. of 2 runs, 1 loop each)\n"
     ]
    }
   ],
   "source": [
    "%%timeit -r 2\n",
    "%%capture\n",
    "!./tp gravier.tif 4 12 3 128 128 1 0 0"
   ]
  },
  {
   "cell_type": "markdown",
   "id": "be19cd92",
   "metadata": {},
   "source": [
    "## Algo 5"
   ]
  },
  {
   "cell_type": "code",
   "execution_count": 11,
   "id": "ded0913c",
   "metadata": {},
   "outputs": [
    {
     "name": "stdout",
     "output_type": "stream",
     "text": [
      "238 ms ± 18.7 ms per loop (mean ± std. dev. of 2 runs, 1 loop each)\n"
     ]
    }
   ],
   "source": [
    "%%timeit -r 2\n",
    "%%capture\n",
    "!./tp gravier.tif 5 12 3 128 128 1 0 0"
   ]
  },
  {
   "cell_type": "markdown",
   "id": "a6ae1ce0",
   "metadata": {},
   "source": [
    "# Test 4 (Algo 3,6 > 1min)"
   ]
  },
  {
   "cell_type": "raw",
   "id": "7b104ac0",
   "metadata": {},
   "source": [
    "racineNombreBlocs = 8\n",
    "recouvrement = 4\n",
    "largeurSortie = 256 \n",
    "hauteurSortie = 256"
   ]
  },
  {
   "cell_type": "markdown",
   "id": "75a2302f",
   "metadata": {},
   "source": [
    "## Algo 3 (>1m)"
   ]
  },
  {
   "cell_type": "raw",
   "id": "945a8e3b",
   "metadata": {},
   "source": [
    "%%timeit -r 2\n",
    "%%capture\n",
    "!./tp gravier.tif 3 8 4 256 256 1 0 0"
   ]
  },
  {
   "cell_type": "markdown",
   "id": "e1120f88",
   "metadata": {},
   "source": [
    "## Algo 6 (>1m)"
   ]
  },
  {
   "cell_type": "raw",
   "id": "ceb1850d",
   "metadata": {},
   "source": [
    "%%timeit -r 1\n",
    "%%capture\n",
    "!./tp gravier.tif 6 8 4 256 256 1 0 0"
   ]
  },
  {
   "cell_type": "markdown",
   "id": "eaa02aa9",
   "metadata": {},
   "source": [
    "## Algo 4"
   ]
  },
  {
   "cell_type": "code",
   "execution_count": 12,
   "id": "5b57813e",
   "metadata": {},
   "outputs": [
    {
     "name": "stdout",
     "output_type": "stream",
     "text": [
      "188 ms ± 1.65 ms per loop (mean ± std. dev. of 2 runs, 1 loop each)\n"
     ]
    }
   ],
   "source": [
    "%%timeit -r 2\n",
    "%%capture\n",
    "!./tp gravier.tif 4 8 4 256 256 1 0 0"
   ]
  },
  {
   "cell_type": "markdown",
   "id": "92dd502b",
   "metadata": {},
   "source": [
    "## Algo 5"
   ]
  },
  {
   "cell_type": "code",
   "execution_count": 13,
   "id": "fddb0cd8",
   "metadata": {},
   "outputs": [
    {
     "name": "stdout",
     "output_type": "stream",
     "text": [
      "203 ms ± 5.87 ms per loop (mean ± std. dev. of 2 runs, 1 loop each)\n"
     ]
    }
   ],
   "source": [
    "%%timeit -r 2\n",
    "%%capture\n",
    "!./tp gravier.tif 5 8 4 256 256 1 0 0"
   ]
  },
  {
   "cell_type": "markdown",
   "id": "10f984d4",
   "metadata": {},
   "source": [
    "# Test 5 (Algo 3,6 > 1min)"
   ]
  },
  {
   "cell_type": "raw",
   "id": "e73684eb",
   "metadata": {},
   "source": [
    "racineNombreBlocs = 8\n",
    "recouvrement = 5\n",
    "largeurSortie = 512\n",
    "hauteurSortie = 512"
   ]
  },
  {
   "cell_type": "markdown",
   "id": "b6458049",
   "metadata": {},
   "source": [
    "## Algo 4"
   ]
  },
  {
   "cell_type": "code",
   "execution_count": 14,
   "id": "93ddf3e6",
   "metadata": {},
   "outputs": [
    {
     "name": "stdout",
     "output_type": "stream",
     "text": [
      "622 ms ± 25.1 ms per loop (mean ± std. dev. of 2 runs, 1 loop each)\n"
     ]
    }
   ],
   "source": [
    "%%timeit -r 2\n",
    "%%capture\n",
    "!./tp gravier.tif 4 8 5 1024 1024 1 0 0"
   ]
  },
  {
   "cell_type": "markdown",
   "id": "2d4dcc99",
   "metadata": {},
   "source": [
    "## Algo 5"
   ]
  },
  {
   "cell_type": "code",
   "execution_count": 15,
   "id": "7cc0c9df",
   "metadata": {},
   "outputs": [
    {
     "name": "stdout",
     "output_type": "stream",
     "text": [
      "493 ms ± 23.1 ms per loop (mean ± std. dev. of 2 runs, 1 loop each)\n"
     ]
    }
   ],
   "source": [
    "%%timeit -r 2\n",
    "%%capture\n",
    "!./tp gravier.tif 5 8 5 1024 1024 1 0 0"
   ]
  },
  {
   "cell_type": "markdown",
   "id": "90acf7cb",
   "metadata": {},
   "source": [
    "# Test 6 (Algo 3,6 > 1min)"
   ]
  },
  {
   "cell_type": "raw",
   "id": "df8d72c7",
   "metadata": {},
   "source": [
    "racineNombreBlocs = 10\n",
    "recouvrement = 5\n",
    "largeurSortie = 4096\n",
    "hauteurSortie = 4096"
   ]
  },
  {
   "cell_type": "markdown",
   "id": "976acac5",
   "metadata": {},
   "source": [
    "## Algo 4"
   ]
  },
  {
   "cell_type": "code",
   "execution_count": 16,
   "id": "7003c0fa",
   "metadata": {},
   "outputs": [
    {
     "name": "stdout",
     "output_type": "stream",
     "text": [
      "7.78 s ± 50.1 ms per loop (mean ± std. dev. of 2 runs, 1 loop each)\n"
     ]
    }
   ],
   "source": [
    "%%timeit -r 2\n",
    "%%capture\n",
    "!./tp gravier.tif 4 10 5 4096 4096 1 0 0"
   ]
  },
  {
   "cell_type": "markdown",
   "id": "36e89ef1",
   "metadata": {},
   "source": [
    "## Algo 5"
   ]
  },
  {
   "cell_type": "code",
   "execution_count": 17,
   "id": "769a2ab4",
   "metadata": {},
   "outputs": [
    {
     "name": "stdout",
     "output_type": "stream",
     "text": [
      "7.16 s ± 377 ms per loop (mean ± std. dev. of 2 runs, 1 loop each)\n"
     ]
    }
   ],
   "source": [
    "%%timeit -r 2\n",
    "%%capture\n",
    "!./tp gravier.tif 5 10 5 4096 4096 1 0 0"
   ]
  }
 ],
 "metadata": {
  "kernelspec": {
   "display_name": "Python 3 (ipykernel)",
   "language": "python",
   "name": "python3"
  },
  "language_info": {
   "codemirror_mode": {
    "name": "ipython",
    "version": 3
   },
   "file_extension": ".py",
   "mimetype": "text/x-python",
   "name": "python",
   "nbconvert_exporter": "python",
   "pygments_lexer": "ipython3",
   "version": "3.10.6"
  }
 },
 "nbformat": 4,
 "nbformat_minor": 5
}
