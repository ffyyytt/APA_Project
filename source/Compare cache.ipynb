{
 "cells": [
  {
   "cell_type": "markdown",
   "id": "246a4656",
   "metadata": {},
   "source": [
    "## Without cache"
   ]
  },
  {
   "cell_type": "markdown",
   "id": "65e7ffdc",
   "metadata": {},
   "source": [
    "### Algo 3"
   ]
  },
  {
   "cell_type": "code",
   "execution_count": 1,
   "id": "8fa1f021",
   "metadata": {},
   "outputs": [
    {
     "name": "stdout",
     "output_type": "stream",
     "text": [
      "9.61 s ± 21.7 ms per loop (mean ± std. dev. of 2 runs, 1 loop each)\n"
     ]
    }
   ],
   "source": [
    "%%timeit -r 2\n",
    "%%capture\n",
    "!./tp gravier.tif 3 18 3 64 64 0 0 0"
   ]
  },
  {
   "cell_type": "markdown",
   "id": "fc176346",
   "metadata": {},
   "source": [
    "### Algo 6"
   ]
  },
  {
   "cell_type": "code",
   "execution_count": 2,
   "id": "cf5758af",
   "metadata": {},
   "outputs": [
    {
     "name": "stdout",
     "output_type": "stream",
     "text": [
      "3.87 s ± 32.8 ms per loop (mean ± std. dev. of 2 runs, 1 loop each)\n"
     ]
    }
   ],
   "source": [
    "%%timeit -r 2\n",
    "%%capture\n",
    "!./tp gravier.tif 6 18 3 64 64 0 0 0"
   ]
  },
  {
   "cell_type": "markdown",
   "id": "61bf6e30",
   "metadata": {},
   "source": [
    "### Algo 4"
   ]
  },
  {
   "cell_type": "code",
   "execution_count": 3,
   "id": "3f30a751",
   "metadata": {},
   "outputs": [
    {
     "name": "stdout",
     "output_type": "stream",
     "text": [
      "9.6 s ± 2.01 ms per loop (mean ± std. dev. of 2 runs, 1 loop each)\n"
     ]
    }
   ],
   "source": [
    "%%timeit -r 2\n",
    "%%capture\n",
    "!./tp gravier.tif 4 5 8 1200 1200 0 0 0"
   ]
  },
  {
   "cell_type": "markdown",
   "id": "694a7dc7",
   "metadata": {},
   "source": [
    "### Algo 5"
   ]
  },
  {
   "cell_type": "code",
   "execution_count": 4,
   "id": "55861236",
   "metadata": {},
   "outputs": [
    {
     "name": "stdout",
     "output_type": "stream",
     "text": [
      "7.43 s ± 84.6 ms per loop (mean ± std. dev. of 2 runs, 1 loop each)\n"
     ]
    }
   ],
   "source": [
    "%%timeit -r 2\n",
    "%%capture\n",
    "!./tp gravier.tif 5 5 8 1200 1200 0 0 0"
   ]
  },
  {
   "cell_type": "markdown",
   "id": "d19263c1",
   "metadata": {},
   "source": [
    "## With cache cost"
   ]
  },
  {
   "cell_type": "markdown",
   "id": "f40b52e2",
   "metadata": {},
   "source": [
    "### Algo 3"
   ]
  },
  {
   "cell_type": "code",
   "execution_count": 5,
   "id": "2969a297",
   "metadata": {},
   "outputs": [
    {
     "name": "stdout",
     "output_type": "stream",
     "text": [
      "6.57 s ± 8.15 ms per loop (mean ± std. dev. of 2 runs, 1 loop each)\n"
     ]
    }
   ],
   "source": [
    "%%timeit -r 2\n",
    "%%capture\n",
    "!./tp gravier.tif 3 18 3 64 64 1 0 0"
   ]
  },
  {
   "cell_type": "markdown",
   "id": "5acb962e",
   "metadata": {},
   "source": [
    "### Algo 6"
   ]
  },
  {
   "cell_type": "code",
   "execution_count": 6,
   "id": "0ce31ca2",
   "metadata": {},
   "outputs": [
    {
     "name": "stdout",
     "output_type": "stream",
     "text": [
      "2.65 s ± 32.2 ms per loop (mean ± std. dev. of 2 runs, 1 loop each)\n"
     ]
    }
   ],
   "source": [
    "%%timeit -r 2\n",
    "%%capture\n",
    "!./tp gravier.tif 6 18 3 64 64 1 0 0"
   ]
  },
  {
   "cell_type": "markdown",
   "id": "b6f18711",
   "metadata": {},
   "source": [
    "### Algo 4"
   ]
  },
  {
   "cell_type": "code",
   "execution_count": 7,
   "id": "8dc82e04",
   "metadata": {},
   "outputs": [
    {
     "name": "stdout",
     "output_type": "stream",
     "text": [
      "611 ms ± 98.5 µs per loop (mean ± std. dev. of 2 runs, 1 loop each)\n"
     ]
    }
   ],
   "source": [
    "%%timeit -r 2\n",
    "%%capture\n",
    "!./tp gravier.tif 4 5 8 1200 1200 1 0 0"
   ]
  },
  {
   "cell_type": "markdown",
   "id": "6eaa571f",
   "metadata": {},
   "source": [
    "### Algo 5"
   ]
  },
  {
   "cell_type": "code",
   "execution_count": 8,
   "id": "bde765f9",
   "metadata": {},
   "outputs": [
    {
     "name": "stdout",
     "output_type": "stream",
     "text": [
      "542 ms ± 65.2 ms per loop (mean ± std. dev. of 2 runs, 1 loop each)\n"
     ]
    }
   ],
   "source": [
    "%%timeit -r 2\n",
    "%%capture\n",
    "!./tp gravier.tif 5 5 8 1200 1200 1 0 0"
   ]
  },
  {
   "cell_type": "markdown",
   "id": "c35ca6f8",
   "metadata": {},
   "source": [
    "## With cache cut"
   ]
  },
  {
   "cell_type": "markdown",
   "id": "c892aebb",
   "metadata": {},
   "source": [
    "It's not much different than without cache, because we don't cache costs so we need to calculate the cost and coupe again for each pair of blocks. Only faster when ind best block is found, but slower at redundant assignment useless cut between pair of blocks (not best)."
   ]
  },
  {
   "cell_type": "markdown",
   "id": "7d2ba95e",
   "metadata": {},
   "source": [
    "### Algo 3"
   ]
  },
  {
   "cell_type": "code",
   "execution_count": 9,
   "id": "4a4a1cc9",
   "metadata": {},
   "outputs": [
    {
     "name": "stdout",
     "output_type": "stream",
     "text": [
      "9.91 s ± 241 ms per loop (mean ± std. dev. of 2 runs, 1 loop each)\n"
     ]
    }
   ],
   "source": [
    "%%timeit -r 2\n",
    "%%capture\n",
    "!./tp gravier.tif 3 18 3 64 64 0 1 0"
   ]
  },
  {
   "cell_type": "markdown",
   "id": "08e5bfbb",
   "metadata": {},
   "source": [
    "### Algo 6"
   ]
  },
  {
   "cell_type": "code",
   "execution_count": 10,
   "id": "f6cf52df",
   "metadata": {},
   "outputs": [
    {
     "name": "stdout",
     "output_type": "stream",
     "text": [
      "3.79 s ± 66.6 ms per loop (mean ± std. dev. of 2 runs, 1 loop each)\n"
     ]
    }
   ],
   "source": [
    "%%timeit -r 2\n",
    "%%capture\n",
    "!./tp gravier.tif 6 18 3 64 64 0 1 0"
   ]
  },
  {
   "cell_type": "markdown",
   "id": "ac52ebc7",
   "metadata": {},
   "source": [
    "### Algo 4"
   ]
  },
  {
   "cell_type": "code",
   "execution_count": 11,
   "id": "fe0b3f10",
   "metadata": {},
   "outputs": [
    {
     "name": "stdout",
     "output_type": "stream",
     "text": [
      "10.3 s ± 85.6 ms per loop (mean ± std. dev. of 2 runs, 1 loop each)\n"
     ]
    }
   ],
   "source": [
    "%%timeit -r 2\n",
    "%%capture\n",
    "!./tp gravier.tif 4 5 8 1200 1200 0 1 0"
   ]
  },
  {
   "cell_type": "markdown",
   "id": "18d87876",
   "metadata": {},
   "source": [
    "### Algo 5"
   ]
  },
  {
   "cell_type": "code",
   "execution_count": 12,
   "id": "1ae8d8c0",
   "metadata": {},
   "outputs": [
    {
     "name": "stdout",
     "output_type": "stream",
     "text": [
      "7.83 s ± 40.1 ms per loop (mean ± std. dev. of 2 runs, 1 loop each)\n"
     ]
    }
   ],
   "source": [
    "%%timeit -r 2\n",
    "%%capture\n",
    "!./tp gravier.tif 5 5 8 1200 1200 0 1 0"
   ]
  },
  {
   "cell_type": "markdown",
   "id": "9e024922",
   "metadata": {},
   "source": [
    "## With cache cost, cut"
   ]
  },
  {
   "cell_type": "markdown",
   "id": "3bd71c44",
   "metadata": {},
   "source": [
    "### Algo 3"
   ]
  },
  {
   "cell_type": "code",
   "execution_count": 13,
   "id": "01ee089c",
   "metadata": {},
   "outputs": [
    {
     "name": "stdout",
     "output_type": "stream",
     "text": [
      "7.48 s ± 155 ms per loop (mean ± std. dev. of 2 runs, 1 loop each)\n"
     ]
    }
   ],
   "source": [
    "%%timeit -r 2\n",
    "%%capture\n",
    "!./tp gravier.tif 3 18 3 64 64 1 1 0"
   ]
  },
  {
   "cell_type": "markdown",
   "id": "f16ce813",
   "metadata": {},
   "source": [
    "### Algo 6"
   ]
  },
  {
   "cell_type": "code",
   "execution_count": 14,
   "id": "4fa7e658",
   "metadata": {},
   "outputs": [
    {
     "name": "stdout",
     "output_type": "stream",
     "text": [
      "3.03 s ± 104 ms per loop (mean ± std. dev. of 2 runs, 1 loop each)\n"
     ]
    }
   ],
   "source": [
    "%%timeit -r 2\n",
    "%%capture\n",
    "!./tp gravier.tif 6 18 3 64 64 1 1 0"
   ]
  },
  {
   "cell_type": "markdown",
   "id": "22e6fef2",
   "metadata": {},
   "source": [
    "### Algo 4"
   ]
  },
  {
   "cell_type": "code",
   "execution_count": 15,
   "id": "a789f11e",
   "metadata": {},
   "outputs": [
    {
     "name": "stdout",
     "output_type": "stream",
     "text": [
      "218 ms ± 1.84 ms per loop (mean ± std. dev. of 2 runs, 10 loops each)\n"
     ]
    }
   ],
   "source": [
    "%%timeit -r 2\n",
    "%%capture\n",
    "!./tp gravier.tif 4 5 8 1200 1200 1 1 0"
   ]
  },
  {
   "cell_type": "markdown",
   "id": "847ad93b",
   "metadata": {},
   "source": [
    "### Algo 5"
   ]
  },
  {
   "cell_type": "code",
   "execution_count": 16,
   "id": "e29a0a25",
   "metadata": {},
   "outputs": [
    {
     "name": "stdout",
     "output_type": "stream",
     "text": [
      "204 ms ± 8.04 ms per loop (mean ± std. dev. of 2 runs, 10 loops each)\n"
     ]
    }
   ],
   "source": [
    "%%timeit -r 2\n",
    "%%capture\n",
    "!./tp gravier.tif 5 5 8 1200 1200 1 1 0"
   ]
  }
 ],
 "metadata": {
  "kernelspec": {
   "display_name": "Python 3 (ipykernel)",
   "language": "python",
   "name": "python3"
  },
  "language_info": {
   "codemirror_mode": {
    "name": "ipython",
    "version": 3
   },
   "file_extension": ".py",
   "mimetype": "text/x-python",
   "name": "python",
   "nbconvert_exporter": "python",
   "pygments_lexer": "ipython3",
   "version": "3.10.6"
  }
 },
 "nbformat": 4,
 "nbformat_minor": 5
}
